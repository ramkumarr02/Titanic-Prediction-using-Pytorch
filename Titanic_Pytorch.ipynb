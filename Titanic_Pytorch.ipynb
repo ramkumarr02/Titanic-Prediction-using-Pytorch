{
  "nbformat": 4,
  "nbformat_minor": 0,
  "metadata": {
    "colab": {
      "name": "Titanic Pytorch.ipynb",
      "provenance": [],
      "collapsed_sections": [],
      "toc_visible": true,
      "include_colab_link": true
    },
    "kernelspec": {
      "name": "python3",
      "display_name": "Python 3"
    }
  },
  "cells": [
    {
      "cell_type": "markdown",
      "metadata": {
        "id": "view-in-github",
        "colab_type": "text"
      },
      "source": [
        "<a href=\"https://colab.research.google.com/github/ramkumarr02/Titanic-Prediction-using-Pytorch/blob/master/Titanic_Pytorch.ipynb\" target=\"_parent\"><img src=\"https://colab.research.google.com/assets/colab-badge.svg\" alt=\"Open In Colab\"/></a>"
      ]
    },
    {
      "cell_type": "markdown",
      "metadata": {
        "id": "WkbuT7q-y89U",
        "colab_type": "text"
      },
      "source": [
        "# Env Setup"
      ]
    },
    {
      "cell_type": "markdown",
      "metadata": {
        "id": "cn2wF7ZNPLN_",
        "colab_type": "text"
      },
      "source": [
        "## Packages\n",
        "\n"
      ]
    },
    {
      "cell_type": "code",
      "metadata": {
        "id": "kjyW1FMoqlDS",
        "colab_type": "code",
        "colab": {}
      },
      "source": [
        "import numpy as np\n",
        "import pandas as pd\n",
        "\n",
        "from sklearn.preprocessing import OneHotEncoder, StandardScaler\n",
        "from sklearn.model_selection import train_test_split\n",
        "from sklearn import metrics\n",
        "from sklearn.ensemble import RandomForestClassifier\n",
        "\n",
        "import torch\n",
        "import torch.nn as nn\n",
        "import torch.nn.functional as F\n",
        "from torch.utils.data import DataLoader, TensorDataset\n",
        "\n",
        "from sklearn.utils import shuffle\n",
        "#from torch.autograd import Variable\n",
        "\n",
        "import matplotlib.pyplot as plt \n",
        "\n",
        "import warnings\n",
        "warnings.filterwarnings(\"ignore\")"
      ],
      "execution_count": 0,
      "outputs": []
    },
    {
      "cell_type": "markdown",
      "metadata": {
        "id": "sJRZM7glP26m",
        "colab_type": "text"
      },
      "source": [
        "## Mount Drive\n"
      ]
    },
    {
      "cell_type": "code",
      "metadata": {
        "id": "O5Wwbddv5ydr",
        "colab_type": "code",
        "outputId": "ffa40374-bd1b-4dda-bfb4-e4dab9bd0386",
        "colab": {
          "base_uri": "https://localhost:8080/",
          "height": 34
        }
      },
      "source": [
        "from google.colab import drive\n",
        "drive.mount('/content/drive')"
      ],
      "execution_count": 2,
      "outputs": [
        {
          "output_type": "stream",
          "text": [
            "Drive already mounted at /content/drive; to attempt to forcibly remount, call drive.mount(\"/content/drive\", force_remount=True).\n"
          ],
          "name": "stdout"
        }
      ]
    },
    {
      "cell_type": "markdown",
      "metadata": {
        "id": "CzCE8YxPWDFW",
        "colab_type": "text"
      },
      "source": [
        "# Functions"
      ]
    },
    {
      "cell_type": "markdown",
      "metadata": {
        "id": "nJgbBTOeWH6u",
        "colab_type": "text"
      },
      "source": [
        "## Split Columns"
      ]
    },
    {
      "cell_type": "code",
      "metadata": {
        "id": "DmfDaKfWD2-7",
        "colab_type": "code",
        "colab": {}
      },
      "source": [
        "def column_split(df):\n",
        "\n",
        "    try:\n",
        "        df['SurName'], df['Name'] = df['Name'].str.split(',', 1).str\n",
        "        df['Title'], df['Name'] = df['Name'].str.split('.', 1).str\n",
        "        df['Cabin_Section'] = df[df['Cabin'].notna()]['Cabin'].astype(str).str[0]\n",
        "        df['Cabin_Nums'] = df[df['Cabin'].notna()]['Cabin'].str.count(\" \") + 1\n",
        "        del df['Name']\n",
        "        del df['Ticket']\n",
        "        del df['Cabin']\n",
        "        #del df['SurName']\n",
        "        \n",
        "    except:\n",
        "        pass\n",
        "    \n",
        "    return(df)"
      ],
      "execution_count": 0,
      "outputs": []
    },
    {
      "cell_type": "markdown",
      "metadata": {
        "id": "ny-llUPnWM0N",
        "colab_type": "text"
      },
      "source": [
        "## Impute Age by title"
      ]
    },
    {
      "cell_type": "code",
      "metadata": {
        "id": "P38HjZPRbo1y",
        "colab_type": "code",
        "colab": {}
      },
      "source": [
        "def impute_age_by_title(df):       \n",
        "    train_with_age = df.copy()\n",
        "\n",
        "    train_with_age_notnull = train_with_age[train_with_age['Age'].notna()]\n",
        "\n",
        "    age_map = train_with_age_notnull.groupby(['Title'])['Age'].mean().astype('int').to_dict()\n",
        "    age_map[' Ms'] = 28\n",
        "\n",
        "    #temp = train_with_age['Age']\n",
        "\n",
        "    for i, row in train_with_age.iterrows():           \n",
        "        if pd.isnull(row['Age']):\n",
        "            df.Age[i] = age_map[train_with_age.Title[i]]  \n",
        "\n",
        "    return(df)"
      ],
      "execution_count": 0,
      "outputs": []
    },
    {
      "cell_type": "markdown",
      "metadata": {
        "id": "yxpZV4kGWQKF",
        "colab_type": "text"
      },
      "source": [
        "## Change all data type into int"
      ]
    },
    {
      "cell_type": "code",
      "metadata": {
        "id": "JmjiRLCKRIP1",
        "colab_type": "code",
        "colab": {}
      },
      "source": [
        "def change_dtype(df):\n",
        "    not_int_cols = list(df.select_dtypes(exclude=['int']).columns)\n",
        "    df[not_int_cols] = df[not_int_cols].astype('int')\n",
        "    return(df)"
      ],
      "execution_count": 0,
      "outputs": []
    },
    {
      "cell_type": "markdown",
      "metadata": {
        "id": "-kOq_aD1WU7V",
        "colab_type": "text"
      },
      "source": [
        "## Scale Data"
      ]
    },
    {
      "cell_type": "code",
      "metadata": {
        "colab_type": "code",
        "id": "2paQ1lZZscZH",
        "colab": {}
      },
      "source": [
        "def scale_data(df):\n",
        "\n",
        "    scaled_features = StandardScaler().fit_transform(df.values)\n",
        "    df = pd.DataFrame(scaled_features, index=df.index, columns=df.columns)\n",
        " \n",
        "    return(df)"
      ],
      "execution_count": 0,
      "outputs": []
    },
    {
      "cell_type": "markdown",
      "metadata": {
        "id": "4gPMsZFsC9iI",
        "colab_type": "text"
      },
      "source": [
        "## PreProcess Data"
      ]
    },
    {
      "cell_type": "code",
      "metadata": {
        "id": "ybzyNc74C9UB",
        "colab_type": "code",
        "colab": {}
      },
      "source": [
        "def pre_process(df, prep_flag = None, train_data = None):        \n",
        "\n",
        "    # Feature Engineering : Split Columns\n",
        "    df = column_split(df)\n",
        "\n",
        "    # Feature Engineering : Impute Age by Title\n",
        "    df = impute_age_by_title(df)\n",
        "\n",
        "    # One Hot Encoding\n",
        "    df = pd.get_dummies(df)\n",
        "\n",
        "    if prep_flag != None:\n",
        "        train_data, df = train_data.align(df, join='left', axis=1)\n",
        "\n",
        "    # Remove NaN\n",
        "    df = df.fillna(0)\n",
        "\n",
        "    # Change all Data types to Int\n",
        "    df = change_dtype(df)\n",
        "\n",
        "    # Scale Data\n",
        "    scaled_df = scale_data(df)\n",
        "\n",
        "    return(scaled_df)"
      ],
      "execution_count": 0,
      "outputs": []
    },
    {
      "cell_type": "markdown",
      "metadata": {
        "id": "ltjxNNVfSY3p",
        "colab_type": "text"
      },
      "source": [
        "## PD.DF to Tensor.DF"
      ]
    },
    {
      "cell_type": "code",
      "metadata": {
        "id": "Oix0iPMNPOvP",
        "colab_type": "code",
        "colab": {}
      },
      "source": [
        "def df2df_tens(x,y):\n",
        "    tens_x = torch.FloatTensor(x.values.astype('float'))\n",
        "    tens_y = torch.LongTensor(y.values.astype('long'))\n",
        "    \n",
        "    df_tens = TensorDataset(tens_x, tens_y)    \n",
        "\n",
        "    return(df_tens)"
      ],
      "execution_count": 0,
      "outputs": []
    },
    {
      "cell_type": "code",
      "metadata": {
        "id": "LFM1r6JGpWdj",
        "colab_type": "code",
        "colab": {}
      },
      "source": [
        "def acc_loss_plot(loss_list, accuracy_list):\n",
        "    fig, ax1 = plt.subplots()\n",
        "    color = 'tab:red'\n",
        "    ax1.plot(loss_list,color=color)\n",
        "    ax1.set_xlabel('epoch', color=color)\n",
        "    ax1.set_ylabel('total loss', color=color)\n",
        "    ax1.tick_params(axis = 'y', color=color)\n",
        "    \n",
        "    ax2 = ax1.twinx()  \n",
        "    color = 'tab:blue'\n",
        "    ax2.set_ylabel('accuracy', color=color)  # we already handled the x-label with ax1\n",
        "    ax2.plot(accuracy_list, color=color)\n",
        "    ax2.tick_params(axis='y', color=color)\n",
        "    fig.tight_layout()  # otherwise the right y-label is slightly clipped    \n",
        "    plt.show()\n",
        "    return()"
      ],
      "execution_count": 0,
      "outputs": []
    },
    {
      "cell_type": "markdown",
      "metadata": {
        "id": "QLBJZlDvFE2F",
        "colab_type": "text"
      },
      "source": [
        "## Net List"
      ]
    },
    {
      "cell_type": "code",
      "metadata": {
        "id": "N5roWe1dFDzw",
        "colab_type": "code",
        "colab": {}
      },
      "source": [
        "class Net(nn.Module):\n",
        "    def __init__(self, layers, activation, p=0, weight_init = None):\n",
        "        super(Net, self).__init__()\n",
        "        self.hidden = nn.ModuleList()\n",
        "        self.drop = nn.Dropout(p=p)\n",
        "        for input_dim, output_dim in zip(layers, layers[1:]):\n",
        "            linear = nn.Linear(input_dim, output_dim)\n",
        "            if weight_init != None:\n",
        "                weight_init(linear.weight)\n",
        "            self.hidden.append(linear) \n",
        "    \n",
        "    def forward(self, x):\n",
        "        L = len(self.hidden)\n",
        "        for l, linear_layer in zip(range(L), self.hidden):\n",
        "            if l < L-1:                              \n",
        "                x = linear_layer(x)                \n",
        "                x = self.drop(x)\n",
        "                x = activation(x)                \n",
        "            else:\n",
        "                x = linear_layer(x)\n",
        " \n",
        "        return(x)"
      ],
      "execution_count": 0,
      "outputs": []
    },
    {
      "cell_type": "markdown",
      "metadata": {
        "colab_type": "text",
        "id": "I2XOfM3wgHnM"
      },
      "source": [
        "## Model Trainer"
      ]
    },
    {
      "cell_type": "code",
      "metadata": {
        "colab_type": "code",
        "id": "D-Csw2Z-gHnN",
        "colab": {}
      },
      "source": [
        "def train_model(num_epochs, optimizer, criterion, train_loader, valid_loader, n_test):\n",
        "    loss_list = []\n",
        "    accuracy_list = []  \n",
        "\n",
        "    for epoch in range(num_epochs):   \n",
        "        model.train()\n",
        "        for x,y in train_loader:        \n",
        "            optimizer.zero_grad()\n",
        "            yhat = model(x)\n",
        "            loss =criterion(yhat, y)\n",
        "            loss.backward()\n",
        "            optimizer.step()\n",
        "\n",
        "        model.eval()\n",
        "        correct = 0\n",
        "        for x_test, y_test in valid_loader:        \n",
        "            z = model(x_test)\n",
        "            _, yhat = torch.max(z.data, 1)        \n",
        "            correct += (yhat == y_test).sum().item()\n",
        "        model.train()\n",
        "\n",
        "        accuracy = correct/n_test        \n",
        "        accuracy_list.append(accuracy)\n",
        "        loss_list.append(loss.data)        \n",
        "\n",
        "        if epoch % 2 == 0:\n",
        "            print(f'Epoch : {epoch}, Loss : {loss.data} , Accuracy : {accuracy}')        \n",
        "\n",
        "        if epoch == num_epochs-1:               \n",
        "            acc_loss_plot(loss_list, accuracy_list)           \n",
        "\n",
        "    return(model, loss_list, accuracy_list)"
      ],
      "execution_count": 0,
      "outputs": []
    },
    {
      "cell_type": "markdown",
      "metadata": {
        "id": "un-sEXQhWZxt",
        "colab_type": "text"
      },
      "source": [
        "# Code Engine"
      ]
    },
    {
      "cell_type": "markdown",
      "metadata": {
        "id": "AcjsnMmsMgwE",
        "colab_type": "text"
      },
      "source": [
        "## Read Data"
      ]
    },
    {
      "cell_type": "code",
      "metadata": {
        "id": "C-ZBb--KMgF9",
        "colab_type": "code",
        "outputId": "ef8927d9-1dbc-439c-a22e-4d57fbfd9a4b",
        "colab": {
          "base_uri": "https://localhost:8080/",
          "height": 110
        }
      },
      "source": [
        "train = pd.read_csv('/content/drive/My Drive/Colab Notebooks/Deep Learning/Titanic/PyTorch/train.csv')\n",
        "test = pd.read_csv('/content/drive/My Drive/Colab Notebooks/Deep Learning/Titanic/PyTorch/test.csv')\n",
        "\n",
        "train_copy = train.copy()\n",
        "test_copy = test.copy()\n",
        "\n",
        "del train['PassengerId']\n",
        "del test['PassengerId']\n",
        "\n",
        "train.head(2)"
      ],
      "execution_count": 12,
      "outputs": [
        {
          "output_type": "execute_result",
          "data": {
            "text/html": [
              "<div>\n",
              "<style scoped>\n",
              "    .dataframe tbody tr th:only-of-type {\n",
              "        vertical-align: middle;\n",
              "    }\n",
              "\n",
              "    .dataframe tbody tr th {\n",
              "        vertical-align: top;\n",
              "    }\n",
              "\n",
              "    .dataframe thead th {\n",
              "        text-align: right;\n",
              "    }\n",
              "</style>\n",
              "<table border=\"1\" class=\"dataframe\">\n",
              "  <thead>\n",
              "    <tr style=\"text-align: right;\">\n",
              "      <th></th>\n",
              "      <th>Survived</th>\n",
              "      <th>Pclass</th>\n",
              "      <th>Name</th>\n",
              "      <th>Sex</th>\n",
              "      <th>Age</th>\n",
              "      <th>SibSp</th>\n",
              "      <th>Parch</th>\n",
              "      <th>Ticket</th>\n",
              "      <th>Fare</th>\n",
              "      <th>Cabin</th>\n",
              "      <th>Embarked</th>\n",
              "    </tr>\n",
              "  </thead>\n",
              "  <tbody>\n",
              "    <tr>\n",
              "      <th>0</th>\n",
              "      <td>0</td>\n",
              "      <td>3</td>\n",
              "      <td>Braund, Mr. Owen Harris</td>\n",
              "      <td>male</td>\n",
              "      <td>22.0</td>\n",
              "      <td>1</td>\n",
              "      <td>0</td>\n",
              "      <td>A/5 21171</td>\n",
              "      <td>7.2500</td>\n",
              "      <td>NaN</td>\n",
              "      <td>S</td>\n",
              "    </tr>\n",
              "    <tr>\n",
              "      <th>1</th>\n",
              "      <td>1</td>\n",
              "      <td>1</td>\n",
              "      <td>Cumings, Mrs. John Bradley (Florence Briggs Th...</td>\n",
              "      <td>female</td>\n",
              "      <td>38.0</td>\n",
              "      <td>1</td>\n",
              "      <td>0</td>\n",
              "      <td>PC 17599</td>\n",
              "      <td>71.2833</td>\n",
              "      <td>C85</td>\n",
              "      <td>C</td>\n",
              "    </tr>\n",
              "  </tbody>\n",
              "</table>\n",
              "</div>"
            ],
            "text/plain": [
              "   Survived  Pclass  ... Cabin Embarked\n",
              "0         0       3  ...   NaN        S\n",
              "1         1       1  ...   C85        C\n",
              "\n",
              "[2 rows x 11 columns]"
            ]
          },
          "metadata": {
            "tags": []
          },
          "execution_count": 12
        }
      ]
    },
    {
      "cell_type": "markdown",
      "metadata": {
        "id": "y3NYGntqqybR",
        "colab_type": "text"
      },
      "source": [
        "## Split Data for OOB testing"
      ]
    },
    {
      "cell_type": "code",
      "metadata": {
        "id": "u1RFASmbjMNL",
        "colab_type": "code",
        "colab": {}
      },
      "source": [
        "train = pd.concat([train]*20, ignore_index=True)"
      ],
      "execution_count": 0,
      "outputs": []
    },
    {
      "cell_type": "code",
      "metadata": {
        "id": "FhXDEYTyXUPT",
        "colab_type": "code",
        "colab": {}
      },
      "source": [
        "train_x, valid_x, train_y, valid_y = train_test_split(train.loc[:, train.columns != 'Survived'], train['Survived'],train_size = 0.8,random_state = 1)"
      ],
      "execution_count": 0,
      "outputs": []
    },
    {
      "cell_type": "markdown",
      "metadata": {
        "id": "8f2mvVRXTrjE",
        "colab_type": "text"
      },
      "source": [
        "## PreProcess Data"
      ]
    },
    {
      "cell_type": "code",
      "metadata": {
        "id": "gCyCwIx08T3I",
        "colab_type": "code",
        "colab": {}
      },
      "source": [
        "temp_whole_df = train_x.append(test).reset_index(drop=True)\n",
        "scaled_whole_df = pre_process(temp_whole_df)\n",
        "ref_df = scaled_whole_df.copy()\n",
        "#ref_df = scaled_train_x"
      ],
      "execution_count": 0,
      "outputs": []
    },
    {
      "cell_type": "code",
      "metadata": {
        "id": "XI1GzO3oCsnJ",
        "colab_type": "code",
        "colab": {}
      },
      "source": [
        "#scaled_train_x = pre_process(train_x)\n",
        "scaled_train_x = pre_process(train_x, train_data = ref_df, prep_flag = 'train')\n",
        "scaled_valid_x = pre_process(valid_x, train_data = ref_df, prep_flag = 'valid')"
      ],
      "execution_count": 0,
      "outputs": []
    },
    {
      "cell_type": "code",
      "metadata": {
        "id": "upOglTkpQaO8",
        "colab_type": "code",
        "colab": {}
      },
      "source": [
        "# Convert Dataframe to Tensor Dataframe \n",
        "train_tensor = df2df_tens(scaled_train_x,train_y)\n",
        "valid_tensor = df2df_tens(scaled_valid_x,valid_y)"
      ],
      "execution_count": 0,
      "outputs": []
    },
    {
      "cell_type": "code",
      "metadata": {
        "id": "Qsx5to5aoZOL",
        "colab_type": "code",
        "colab": {}
      },
      "source": [
        "# Data Loader : Train and valid\n",
        "batch_size = 20\n",
        "train_loader = DataLoader(dataset = train_tensor, batch_size=batch_size, shuffle = True)\n",
        "valid_loader = DataLoader(dataset = valid_tensor, batch_size=batch_size, shuffle = True)"
      ],
      "execution_count": 0,
      "outputs": []
    },
    {
      "cell_type": "markdown",
      "metadata": {
        "id": "hM5Qm_EKs4yS",
        "colab_type": "text"
      },
      "source": [
        "# Modelling"
      ]
    },
    {
      "cell_type": "markdown",
      "metadata": {
        "id": "l-Y331Memq5N",
        "colab_type": "text"
      },
      "source": [
        "## Neural Net Parameters\n"
      ]
    },
    {
      "cell_type": "code",
      "metadata": {
        "id": "_Eqp7S8uAnnD",
        "colab_type": "code",
        "colab": {}
      },
      "source": [
        "input_size  = list(train_loader)[0][0].shape[1]\n",
        "output_size = 2\n",
        "layers = [input_size, 512, 128, 64, output_size]\n",
        "activation = F.tanh     #activation = F.relu\n",
        "p = 0.5                 #Dropout value\n",
        "weight_init = torch.nn.init.xavier_uniform_"
      ],
      "execution_count": 0,
      "outputs": []
    },
    {
      "cell_type": "markdown",
      "metadata": {
        "id": "hBXbv3OOm7Mk",
        "colab_type": "text"
      },
      "source": [
        "## Neural Net"
      ]
    },
    {
      "cell_type": "code",
      "metadata": {
        "id": "zz9hmcFAmwaL",
        "colab_type": "code",
        "colab": {}
      },
      "source": [
        "model = Net(layers, activation, p, weight_init)"
      ],
      "execution_count": 0,
      "outputs": []
    },
    {
      "cell_type": "markdown",
      "metadata": {
        "id": "q7uL5DpHm3zb",
        "colab_type": "text"
      },
      "source": [
        "## Training Parameters"
      ]
    },
    {
      "cell_type": "code",
      "metadata": {
        "id": "NqM9vNqZmvBC",
        "colab_type": "code",
        "colab": {}
      },
      "source": [
        "num_epochs  = 15\n",
        "criterion = nn.CrossEntropyLoss()\n",
        "train_loader = train_loader\n",
        "valid_loader = valid_loader\n",
        "n_test = len(scaled_valid_x)\n",
        "\n",
        "learning_rate = 0.01\n",
        "momentum=0.9\n",
        "\n",
        "#optimizer = torch.optim.Adam(model.parameters(), lr=learning_rate)\n",
        "optimizer = torch.optim.SGD(model.parameters(), lr=learning_rate, momentum = momentum)"
      ],
      "execution_count": 0,
      "outputs": []
    },
    {
      "cell_type": "markdown",
      "metadata": {
        "id": "yInMNqevfyKp",
        "colab_type": "text"
      },
      "source": [
        "## Training"
      ]
    },
    {
      "cell_type": "code",
      "metadata": {
        "id": "ne4mvaeBe_fS",
        "colab_type": "code",
        "outputId": "361d9679-350a-4d7e-e7b5-d48ee65b47b2",
        "colab": {
          "base_uri": "https://localhost:8080/",
          "height": 436
        }
      },
      "source": [
        "model, loss_list, accuracy_list = train_model(num_epochs, optimizer, criterion, train_loader, valid_loader, n_test)"
      ],
      "execution_count": 22,
      "outputs": [
        {
          "output_type": "stream",
          "text": [
            "Epoch : 0, Loss : 0.007299880031496286 , Accuracy : 0.9817620650953984\n",
            "Epoch : 2, Loss : 0.008734609000384808 , Accuracy : 0.9896184062850729\n",
            "Epoch : 4, Loss : 0.0012588934041559696 , Accuracy : 0.9915824915824916\n",
            "Epoch : 6, Loss : 0.07727167010307312 , Accuracy : 0.9907407407407407\n",
            "Epoch : 8, Loss : 0.0017058952944353223 , Accuracy : 0.9929854096520763\n",
            "Epoch : 10, Loss : 0.0005269726389087737 , Accuracy : 0.9921436588103255\n",
            "Epoch : 12, Loss : 0.04117745906114578 , Accuracy : 0.9929854096520763\n",
            "Epoch : 14, Loss : 0.004000064451247454 , Accuracy : 0.9924242424242424\n"
          ],
          "name": "stdout"
        },
        {
          "output_type": "display_data",
          "data": {
            "image/png": "[encoded data removed]",
            "text/plain": [
              "<Figure size 432x288 with 2 Axes>"
            ]
          },
          "metadata": {
            "tags": []
          }
        }
      ]
    },
    {
      "cell_type": "markdown",
      "metadata": {
        "id": "Mqho6ihcsvQg",
        "colab_type": "text"
      },
      "source": [
        "# Testing"
      ]
    },
    {
      "cell_type": "markdown",
      "metadata": {
        "colab_type": "text",
        "id": "LIUa4CoOrIXi"
      },
      "source": [
        "## Prep Test data"
      ]
    },
    {
      "cell_type": "code",
      "metadata": {
        "id": "vVmQ8QdkXUHn",
        "colab_type": "code",
        "colab": {}
      },
      "source": [
        "scaled_test_x = pre_process(test, train_data = ref_df, prep_flag = 'Test')\n",
        "test_x_tens = torch.FloatTensor(scaled_test_x.values.astype('float'))"
      ],
      "execution_count": 0,
      "outputs": []
    },
    {
      "cell_type": "markdown",
      "metadata": {
        "id": "SKqDpB9NELtU",
        "colab_type": "text"
      },
      "source": [
        "## Predict"
      ]
    },
    {
      "cell_type": "code",
      "metadata": {
        "id": "6tpgudAXELPu",
        "colab_type": "code",
        "outputId": "e535ca3c-a808-4a40-de08-6e52c4060a02",
        "colab": {
          "base_uri": "https://localhost:8080/",
          "height": 34
        }
      },
      "source": [
        "z_test = model(test_x_tens)\n",
        "_, yhat = torch.max(z_test.data, 1)\n",
        "print(len(yhat))"
      ],
      "execution_count": 24,
      "outputs": [
        {
          "output_type": "stream",
          "text": [
            "418\n"
          ],
          "name": "stdout"
        }
      ]
    },
    {
      "cell_type": "code",
      "metadata": {
        "id": "EwvO9NXED7B3",
        "colab_type": "code",
        "colab": {}
      },
      "source": [
        "test_copy['Survived'] = yhat\n",
        "df_results = test_copy[['PassengerId', 'Survived']]\n",
        "df_results.to_csv('results.csv', index = False)"
      ],
      "execution_count": 0,
      "outputs": []
    }
  ]
}