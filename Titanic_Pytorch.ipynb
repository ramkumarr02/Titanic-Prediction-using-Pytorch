{
  "nbformat": 4,
  "nbformat_minor": 0,
  "metadata": {
    "colab": {
      "name": "Titanic Pytorch.ipynb",
      "provenance": [],
      "collapsed_sections": [],
      "toc_visible": true,
      "include_colab_link": true
    },
    "kernelspec": {
      "name": "python3",
      "display_name": "Python 3"
    }
  },
  "cells": [
    {
      "cell_type": "markdown",
      "metadata": {
        "id": "view-in-github",
        "colab_type": "text"
      },
      "source": [
        "<a href=\"https://colab.research.google.com/github/ramkumarr02/Titanic-Prediction-using-Pytorch/blob/master/Titanic_Pytorch.ipynb\" target=\"_parent\"><img src=\"https://colab.research.google.com/assets/colab-badge.svg\" alt=\"Open In Colab\"/></a>"
      ]
    },
    {
      "cell_type": "markdown",
      "metadata": {
        "id": "WkbuT7q-y89U",
        "colab_type": "text"
      },
      "source": [
        "# Env Setup"
      ]
    },
    {
      "cell_type": "markdown",
      "metadata": {
        "id": "cn2wF7ZNPLN_",
        "colab_type": "text"
      },
      "source": [
        "## Packages\n",
        "\n"
      ]
    },
    {
      "cell_type": "code",
      "metadata": {
        "id": "kjyW1FMoqlDS",
        "colab_type": "code",
        "colab": {}
      },
      "source": [
        "import numpy as np\n",
        "import pandas as pd\n",
        "\n",
        "from sklearn.preprocessing import OneHotEncoder, StandardScaler\n",
        "from sklearn.model_selection import train_test_split\n",
        "from sklearn import metrics\n",
        "from sklearn.ensemble import RandomForestClassifier\n",
        "\n",
        "\n",
        "import warnings\n",
        "warnings.filterwarnings(\"ignore\")"
      ],
      "execution_count": 0,
      "outputs": []
    },
    {
      "cell_type": "markdown",
      "metadata": {
        "id": "sJRZM7glP26m",
        "colab_type": "text"
      },
      "source": [
        "## Load Data\n"
      ]
    },
    {
      "cell_type": "code",
      "metadata": {
        "id": "O5Wwbddv5ydr",
        "colab_type": "code",
        "outputId": "c28aa4a8-705a-4970-e383-5b0ffde69770",
        "colab": {
          "base_uri": "https://localhost:8080/",
          "height": 34
        }
      },
      "source": [
        "from google.colab import drive\n",
        "drive.mount('/content/drive')"
      ],
      "execution_count": 0,
      "outputs": [
        {
          "output_type": "stream",
          "text": [
            "Drive already mounted at /content/drive; to attempt to forcibly remount, call drive.mount(\"/content/drive\", force_remount=True).\n"
          ],
          "name": "stdout"
        }
      ]
    },
    {
      "cell_type": "code",
      "metadata": {
        "id": "a9HDWb0n6Cni",
        "colab_type": "code",
        "outputId": "7a38c567-6e1c-4f15-c0d8-06d91123e77c",
        "colab": {
          "base_uri": "https://localhost:8080/",
          "height": 103
        }
      },
      "source": [
        "train = pd.read_csv('/content/drive/My Drive/Colab Notebooks/Deep Learning/Titanic/PyTorch/train.csv')\n",
        "test = pd.read_csv('/content/drive/My Drive/Colab Notebooks/Deep Learning/Titanic/PyTorch/test.csv')\n",
        "\n",
        "del train['PassengerId']\n",
        "del test['PassengerId']\n",
        "\n",
        "train_copy = train.copy()\n",
        "test_copy = test.copy()\n",
        "\n",
        "train.head(2)"
      ],
      "execution_count": 0,
      "outputs": [
        {
          "output_type": "execute_result",
          "data": {
            "text/html": [
              "<div>\n",
              "<style scoped>\n",
              "    .dataframe tbody tr th:only-of-type {\n",
              "        vertical-align: middle;\n",
              "    }\n",
              "\n",
              "    .dataframe tbody tr th {\n",
              "        vertical-align: top;\n",
              "    }\n",
              "\n",
              "    .dataframe thead th {\n",
              "        text-align: right;\n",
              "    }\n",
              "</style>\n",
              "<table border=\"1\" class=\"dataframe\">\n",
              "  <thead>\n",
              "    <tr style=\"text-align: right;\">\n",
              "      <th></th>\n",
              "      <th>Survived</th>\n",
              "      <th>Pclass</th>\n",
              "      <th>Name</th>\n",
              "      <th>Sex</th>\n",
              "      <th>Age</th>\n",
              "      <th>SibSp</th>\n",
              "      <th>Parch</th>\n",
              "      <th>Ticket</th>\n",
              "      <th>Fare</th>\n",
              "      <th>Cabin</th>\n",
              "      <th>Embarked</th>\n",
              "    </tr>\n",
              "  </thead>\n",
              "  <tbody>\n",
              "    <tr>\n",
              "      <th>0</th>\n",
              "      <td>0</td>\n",
              "      <td>3</td>\n",
              "      <td>Braund, Mr. Owen Harris</td>\n",
              "      <td>male</td>\n",
              "      <td>22.0</td>\n",
              "      <td>1</td>\n",
              "      <td>0</td>\n",
              "      <td>A/5 21171</td>\n",
              "      <td>7.2500</td>\n",
              "      <td>NaN</td>\n",
              "      <td>S</td>\n",
              "    </tr>\n",
              "    <tr>\n",
              "      <th>1</th>\n",
              "      <td>1</td>\n",
              "      <td>1</td>\n",
              "      <td>Cumings, Mrs. John Bradley (Florence Briggs Th...</td>\n",
              "      <td>female</td>\n",
              "      <td>38.0</td>\n",
              "      <td>1</td>\n",
              "      <td>0</td>\n",
              "      <td>PC 17599</td>\n",
              "      <td>71.2833</td>\n",
              "      <td>C85</td>\n",
              "      <td>C</td>\n",
              "    </tr>\n",
              "  </tbody>\n",
              "</table>\n",
              "</div>"
            ],
            "text/plain": [
              "   Survived  Pclass  ... Cabin Embarked\n",
              "0         0       3  ...   NaN        S\n",
              "1         1       1  ...   C85        C\n",
              "\n",
              "[2 rows x 11 columns]"
            ]
          },
          "metadata": {
            "tags": []
          },
          "execution_count": 717
        }
      ]
    },
    {
      "cell_type": "markdown",
      "metadata": {
        "id": "CzCE8YxPWDFW",
        "colab_type": "text"
      },
      "source": [
        "# Functions"
      ]
    },
    {
      "cell_type": "markdown",
      "metadata": {
        "id": "nJgbBTOeWH6u",
        "colab_type": "text"
      },
      "source": [
        "## Split Columns"
      ]
    },
    {
      "cell_type": "code",
      "metadata": {
        "id": "DmfDaKfWD2-7",
        "colab_type": "code",
        "colab": {}
      },
      "source": [
        "def column_split(df):\n",
        "\n",
        "    try:\n",
        "        df['SurName'], df['Name'] = df['Name'].str.split(',', 1).str\n",
        "        df['Title'], df['Name'] = df['Name'].str.split('.', 1).str\n",
        "        df['Cabin_Section'] = df[df['Cabin'].notna()]['Cabin'].astype(str).str[0]\n",
        "        df['Cabin_Nums'] = df[df['Cabin'].notna()]['Cabin'].str.count(\" \") + 1\n",
        "        del df['Name']\n",
        "        del df['Ticket']\n",
        "        del df['Cabin']\n",
        "        #del df['SurName']\n",
        "        \n",
        "    except:\n",
        "        pass\n",
        "    \n",
        "    return(df)"
      ],
      "execution_count": 0,
      "outputs": []
    },
    {
      "cell_type": "markdown",
      "metadata": {
        "id": "ny-llUPnWM0N",
        "colab_type": "text"
      },
      "source": [
        "## Impute Age by title"
      ]
    },
    {
      "cell_type": "code",
      "metadata": {
        "id": "P38HjZPRbo1y",
        "colab_type": "code",
        "colab": {}
      },
      "source": [
        "def impute_age_by_title(df):       \n",
        "    train_with_age = df.copy()\n",
        "\n",
        "    train_with_age_notnull = train_with_age[train_with_age['Age'].notna()]\n",
        "\n",
        "    age_map = train_with_age_notnull.groupby(['Title'])['Age'].mean().astype('int').to_dict()\n",
        "    age_map[' Ms'] = 28\n",
        "\n",
        "    #temp = train_with_age['Age']\n",
        "\n",
        "    for i, row in train_with_age.iterrows():           \n",
        "        if pd.isnull(row['Age']):\n",
        "            df.Age[i] = age_map[train_with_age.Title[i]]  \n",
        "\n",
        "    return(df)"
      ],
      "execution_count": 0,
      "outputs": []
    },
    {
      "cell_type": "markdown",
      "metadata": {
        "id": "yxpZV4kGWQKF",
        "colab_type": "text"
      },
      "source": [
        "## Change all data type into int"
      ]
    },
    {
      "cell_type": "code",
      "metadata": {
        "id": "JmjiRLCKRIP1",
        "colab_type": "code",
        "colab": {}
      },
      "source": [
        "def change_dtype(df):\n",
        "    not_int_cols = list(df.select_dtypes(exclude=['int']).columns)\n",
        "    df[not_int_cols] = df[not_int_cols].astype('int')\n",
        "    return(df)"
      ],
      "execution_count": 0,
      "outputs": []
    },
    {
      "cell_type": "markdown",
      "metadata": {
        "id": "-kOq_aD1WU7V",
        "colab_type": "text"
      },
      "source": [
        "## Scale Data"
      ]
    },
    {
      "cell_type": "code",
      "metadata": {
        "colab_type": "code",
        "id": "2paQ1lZZscZH",
        "colab": {}
      },
      "source": [
        "def scale_data(df):\n",
        "\n",
        "    scaled_features = StandardScaler().fit_transform(df.values)\n",
        "    df = pd.DataFrame(scaled_features, index=df.index, columns=df.columns)\n",
        " \n",
        "    return(df)"
      ],
      "execution_count": 0,
      "outputs": []
    },
    {
      "cell_type": "markdown",
      "metadata": {
        "id": "4gPMsZFsC9iI",
        "colab_type": "text"
      },
      "source": [
        "## PreProcess Data"
      ]
    },
    {
      "cell_type": "code",
      "metadata": {
        "id": "ybzyNc74C9UB",
        "colab_type": "code",
        "colab": {}
      },
      "source": [
        "def pre_process(df, prep_flag = None, train_data = None):        \n",
        "\n",
        "    # Feature Engineering : Split Columns\n",
        "    df = column_split(df)\n",
        "\n",
        "    # Feature Engineering : Impute Age by Title\n",
        "    df = impute_age_by_title(df)\n",
        "\n",
        "    # One Hot Encoding\n",
        "    df = pd.get_dummies(df)\n",
        "\n",
        "    if prep_flag != None:\n",
        "        train_data, df = train_data.align(df, join='left', axis=1)\n",
        "\n",
        "    # Remove NaN\n",
        "    df = df.fillna(0)\n",
        "\n",
        "    # Change all Data types to Int\n",
        "    df = change_dtype(df)\n",
        "\n",
        "    # Scale Data\n",
        "    scaled_df = scale_data(df)\n",
        "\n",
        "    return(scaled_df)"
      ],
      "execution_count": 0,
      "outputs": []
    },
    {
      "cell_type": "markdown",
      "metadata": {
        "id": "un-sEXQhWZxt",
        "colab_type": "text"
      },
      "source": [
        "# Code Engine"
      ]
    },
    {
      "cell_type": "markdown",
      "metadata": {
        "id": "y3NYGntqqybR",
        "colab_type": "text"
      },
      "source": [
        "## Split Data for OOB testing"
      ]
    },
    {
      "cell_type": "code",
      "metadata": {
        "id": "FhXDEYTyXUPT",
        "colab_type": "code",
        "colab": {}
      },
      "source": [
        "train_x, valid_x, train_y, valid_y = train_test_split(train.loc[:, train.columns != 'Survived'], train['Survived'],train_size = 0.8,random_state = 1)"
      ],
      "execution_count": 0,
      "outputs": []
    },
    {
      "cell_type": "markdown",
      "metadata": {
        "id": "NmED1rCrq8X3",
        "colab_type": "text"
      },
      "source": [
        "## Prep data"
      ]
    },
    {
      "cell_type": "code",
      "metadata": {
        "id": "XI1GzO3oCsnJ",
        "colab_type": "code",
        "outputId": "556574e9-9736-4d97-b696-07f94fa9ff6d",
        "colab": {
          "base_uri": "https://localhost:8080/",
          "height": 70
        }
      },
      "source": [
        "print('train_x', len(train_x.columns))\n",
        "\n",
        "scaled_train_x = pre_process(train_x)\n",
        "print('scaled_train_x', len(scaled_train_x.columns))\n",
        "\n",
        "scaled_valid_x = pre_process(valid_x, train_data = scaled_train_x, prep_flag = 'valid')\n",
        "print('scaled_valid_x', len(scaled_valid_x.columns))"
      ],
      "execution_count": 0,
      "outputs": [
        {
          "output_type": "stream",
          "text": [
            "train_x 10\n",
            "scaled_train_x 589\n",
            "scaled_valid_x 589\n"
          ],
          "name": "stdout"
        }
      ]
    },
    {
      "cell_type": "markdown",
      "metadata": {
        "id": "hM5Qm_EKs4yS",
        "colab_type": "text"
      },
      "source": [
        "# Modelling"
      ]
    },
    {
      "cell_type": "code",
      "metadata": {
        "id": "wOnvPEscs69N",
        "colab_type": "code",
        "outputId": "6a678238-c0eb-488d-8c13-b37d81215b41",
        "colab": {
          "base_uri": "https://localhost:8080/"
        }
      },
      "source": [
        "regr = RandomForestClassifier(random_state = 1)\n",
        "regr.fit(scaled_train_x, train_y) \n",
        "valid_predictions = regr.predict(scaled_valid_x)\n",
        "metrics.accuracy_score(valid_predictions, valid_y)"
      ],
      "execution_count": 0,
      "outputs": [
        {
          "output_type": "execute_result",
          "data": {
            "text/plain": [
              "0.7932960893854749"
            ]
          },
          "metadata": {
            "tags": []
          },
          "execution_count": 725
        }
      ]
    },
    {
      "cell_type": "markdown",
      "metadata": {
        "id": "Mqho6ihcsvQg",
        "colab_type": "text"
      },
      "source": [
        "# Testing"
      ]
    },
    {
      "cell_type": "markdown",
      "metadata": {
        "colab_type": "text",
        "id": "LIUa4CoOrIXi"
      },
      "source": [
        "## Prep Test data"
      ]
    },
    {
      "cell_type": "code",
      "metadata": {
        "id": "vVmQ8QdkXUHn",
        "colab_type": "code",
        "outputId": "9e6a98cb-20ef-485a-d2e2-5129d4136ffc",
        "colab": {
          "base_uri": "https://localhost:8080/",
          "height": 376
        }
      },
      "source": [
        "scaled_test_x = pre_process(test, train_data = scaled_train_x, prep_flag = 'Test')\n",
        "print('scaled_test_x', len(scaled_test_x.columns))\n",
        "test_predictions = regr.predict(scaled_test_x)\n",
        "test_predictions"
      ],
      "execution_count": 0,
      "outputs": [
        {
          "output_type": "stream",
          "text": [
            "scaled_test_x 589\n"
          ],
          "name": "stdout"
        },
        {
          "output_type": "execute_result",
          "data": {
            "text/plain": [
              "array([0, 0, 0, 0, 0, 0, 1, 0, 1, 0, 0, 0, 1, 0, 1, 1, 0, 0, 0, 1, 0, 1,\n",
              "       1, 0, 1, 0, 1, 0, 0, 0, 0, 0, 1, 1, 0, 0, 0, 0, 0, 0, 0, 0, 0, 1,\n",
              "       1, 0, 0, 0, 1, 1, 0, 0, 1, 1, 0, 0, 0, 0, 0, 1, 0, 0, 0, 1, 1, 1,\n",
              "       1, 0, 1, 1, 1, 0, 0, 0, 1, 0, 0, 1, 0, 1, 1, 0, 0, 0, 0, 0, 1, 0,\n",
              "       1, 1, 0, 0, 1, 0, 0, 0, 1, 0, 0, 0, 1, 0, 0, 0, 1, 0, 0, 0, 0, 0,\n",
              "       0, 1, 1, 1, 1, 0, 0, 1, 0, 1, 1, 0, 1, 0, 0, 1, 0, 1, 0, 0, 0, 0,\n",
              "       0, 0, 0, 0, 0, 0, 0, 0, 0, 1, 1, 0, 0, 0, 0, 0, 0, 0, 1, 0, 0, 1,\n",
              "       0, 0, 1, 0, 0, 0, 1, 1, 1, 0, 0, 1, 0, 0, 1, 0, 0, 0, 0, 0, 0, 1,\n",
              "       1, 0, 1, 1, 0, 0, 1, 0, 1, 0, 1, 0, 0, 0, 0, 0, 1, 0, 1, 0, 1, 1,\n",
              "       0, 1, 1, 1, 1, 1, 0, 0, 1, 0, 1, 0, 0, 0, 0, 1, 0, 0, 1, 0, 1, 0,\n",
              "       1, 0, 1, 0, 1, 0, 0, 1, 0, 0, 0, 1, 0, 0, 0, 0, 1, 0, 1, 1, 1, 1,\n",
              "       0, 0, 1, 1, 1, 0, 1, 0, 1, 0, 0, 0, 0, 0, 0, 0, 1, 0, 0, 0, 1, 1,\n",
              "       0, 0, 0, 0, 0, 0, 0, 0, 1, 1, 0, 1, 0, 0, 0, 0, 0, 1, 1, 1, 1, 0,\n",
              "       0, 0, 0, 0, 0, 1, 0, 1, 0, 0, 1, 0, 0, 0, 0, 0, 0, 0, 1, 1, 0, 1,\n",
              "       1, 0, 0, 0, 0, 1, 1, 1, 1, 0, 1, 0, 0, 0, 0, 0, 1, 0, 1, 0, 0, 0,\n",
              "       1, 0, 0, 1, 0, 0, 0, 0, 0, 1, 0, 0, 0, 1, 1, 0, 0, 1, 0, 1, 1, 0,\n",
              "       0, 0, 1, 1, 1, 0, 0, 0, 0, 1, 1, 0, 1, 0, 0, 0, 1, 0, 0, 1, 0, 0,\n",
              "       1, 1, 0, 0, 0, 0, 0, 0, 1, 1, 0, 1, 0, 0, 0, 0, 0, 1, 1, 0, 0, 1,\n",
              "       0, 1, 0, 0, 1, 0, 1, 0, 1, 0, 0, 0, 1, 1, 1, 1, 0, 0, 1, 0, 0, 1])"
            ]
          },
          "metadata": {
            "tags": []
          },
          "execution_count": 726
        }
      ]
    }
  ]
}